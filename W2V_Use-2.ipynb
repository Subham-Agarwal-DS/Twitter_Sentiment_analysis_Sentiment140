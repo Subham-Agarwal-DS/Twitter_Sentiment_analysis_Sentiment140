{
 "cells": [
  {
   "cell_type": "code",
   "execution_count": 1,
   "id": "17a801d8",
   "metadata": {
    "id": "17a801d8"
   },
   "outputs": [],
   "source": [
    "# utilities\n",
    "import numpy as np\n",
    "import pandas as pd\n",
    "\n",
    "# plotting\n",
    "import seaborn as sns\n",
    "import matplotlib.pyplot as plt\n",
    "%matplotlib inline\n",
    "\n",
    "from sklearn.model_selection import train_test_split\n",
    "from sklearn.metrics import confusion_matrix, classification_report, accuracy_score\n",
    "# from sklearn.neural_network import MLPClassifier\n",
    "\n",
    "# import xgboost\n",
    "\n",
    "import gensim"
   ]
  },
  {
   "cell_type": "code",
   "execution_count": 2,
   "id": "2c9ed40e",
   "metadata": {},
   "outputs": [],
   "source": [
    "# xgboost.__version__"
   ]
  },
  {
   "cell_type": "code",
   "execution_count": 3,
   "id": "dd691137",
   "metadata": {
    "id": "dd691137",
    "outputId": "a2c97dee-60b4-41dd-86cb-2915cd6c3d6f"
   },
   "outputs": [
    {
     "data": {
      "text/html": [
       "<div>\n",
       "<style scoped>\n",
       "    .dataframe tbody tr th:only-of-type {\n",
       "        vertical-align: middle;\n",
       "    }\n",
       "\n",
       "    .dataframe tbody tr th {\n",
       "        vertical-align: top;\n",
       "    }\n",
       "\n",
       "    .dataframe thead th {\n",
       "        text-align: right;\n",
       "    }\n",
       "</style>\n",
       "<table border=\"1\" class=\"dataframe\">\n",
       "  <thead>\n",
       "    <tr style=\"text-align: right;\">\n",
       "      <th></th>\n",
       "      <th>text</th>\n",
       "      <th>target</th>\n",
       "    </tr>\n",
       "  </thead>\n",
       "  <tbody>\n",
       "    <tr>\n",
       "      <th>0</th>\n",
       "      <td>love not wait se admin best server ever hapi</td>\n",
       "      <td>1.0</td>\n",
       "    </tr>\n",
       "    <tr>\n",
       "      <th>1</th>\n",
       "      <td>folowfriday</td>\n",
       "      <td>1.0</td>\n",
       "    </tr>\n",
       "    <tr>\n",
       "      <th>2</th>\n",
       "      <td>recruit comun server sharepoint dev gig austin...</td>\n",
       "      <td>1.0</td>\n",
       "    </tr>\n",
       "    <tr>\n",
       "      <th>3</th>\n",
       "      <td>not pay god seat watch miley gue bc switch god...</td>\n",
       "      <td>0.0</td>\n",
       "    </tr>\n",
       "    <tr>\n",
       "      <th>4</th>\n",
       "      <td>ah excit pushi home okay aw hapi right</td>\n",
       "      <td>1.0</td>\n",
       "    </tr>\n",
       "    <tr>\n",
       "      <th>...</th>\n",
       "      <td>...</td>\n",
       "      <td>...</td>\n",
       "    </tr>\n",
       "    <tr>\n",
       "      <th>1545966</th>\n",
       "      <td>go go big hous borow si guitar play mayb write</td>\n",
       "      <td>1.0</td>\n",
       "    </tr>\n",
       "    <tr>\n",
       "      <th>1545967</th>\n",
       "      <td>dish sen prepar websit would afraid recomend p...</td>\n",
       "      <td>1.0</td>\n",
       "    </tr>\n",
       "    <tr>\n",
       "      <th>1545968</th>\n",
       "      <td>birthday</td>\n",
       "      <td>1.0</td>\n",
       "    </tr>\n",
       "    <tr>\n",
       "      <th>1545969</th>\n",
       "      <td>huri not think jon kate</td>\n",
       "      <td>1.0</td>\n",
       "    </tr>\n",
       "    <tr>\n",
       "      <th>1545970</th>\n",
       "      <td>ltlti not know cud dat phone til wowmi life co...</td>\n",
       "      <td>1.0</td>\n",
       "    </tr>\n",
       "  </tbody>\n",
       "</table>\n",
       "<p>1545971 rows × 2 columns</p>\n",
       "</div>"
      ],
      "text/plain": [
       "                                                      text  target\n",
       "0             love not wait se admin best server ever hapi     1.0\n",
       "1                                              folowfriday     1.0\n",
       "2        recruit comun server sharepoint dev gig austin...     1.0\n",
       "3        not pay god seat watch miley gue bc switch god...     0.0\n",
       "4                   ah excit pushi home okay aw hapi right     1.0\n",
       "...                                                    ...     ...\n",
       "1545966     go go big hous borow si guitar play mayb write     1.0\n",
       "1545967  dish sen prepar websit would afraid recomend p...     1.0\n",
       "1545968                                           birthday     1.0\n",
       "1545969                            huri not think jon kate     1.0\n",
       "1545970  ltlti not know cud dat phone til wowmi life co...     1.0\n",
       "\n",
       "[1545971 rows x 2 columns]"
      ]
     },
     "execution_count": 3,
     "metadata": {},
     "output_type": "execute_result"
    }
   ],
   "source": [
    "df = pd.read_csv('twitter.cleaned.csv')\n",
    "df\n"
   ]
  },
  {
   "cell_type": "code",
   "execution_count": 4,
   "id": "01b6afc3",
   "metadata": {
    "id": "01b6afc3",
    "outputId": "aad6b175-aabe-481d-bd30-89444d295f72"
   },
   "outputs": [
    {
     "name": "stdout",
     "output_type": "stream",
     "text": [
      "<class 'pandas.core.frame.DataFrame'>\n",
      "RangeIndex: 1545971 entries, 0 to 1545970\n",
      "Data columns (total 2 columns):\n",
      " #   Column  Non-Null Count    Dtype  \n",
      "---  ------  --------------    -----  \n",
      " 0   text    1545971 non-null  object \n",
      " 1   target  1545971 non-null  float64\n",
      "dtypes: float64(1), object(1)\n",
      "memory usage: 23.6+ MB\n"
     ]
    }
   ],
   "source": [
    "df.info()"
   ]
  },
  {
   "cell_type": "markdown",
   "id": "e8352074",
   "metadata": {
    "id": "e8352074"
   },
   "source": [
    "### Analyzing sequences to use Word2Vec"
   ]
  },
  {
   "cell_type": "code",
   "execution_count": 5,
   "id": "6fb6dbfb",
   "metadata": {
    "id": "6fb6dbfb",
    "outputId": "5523dc08-25ee-4493-e801-8236e0324fc9"
   },
   "outputs": [
    {
     "data": {
      "text/plain": [
       "34"
      ]
     },
     "execution_count": 5,
     "metadata": {},
     "output_type": "execute_result"
    }
   ],
   "source": [
    "val = max(df['text'].apply(lambda x: len(x.split())))\n",
    "val"
   ]
  },
  {
   "cell_type": "code",
   "execution_count": 6,
   "id": "f41380f3",
   "metadata": {
    "id": "f41380f3",
    "outputId": "6be8e148-4aad-4559-d1aa-ca18820c0914"
   },
   "outputs": [
    {
     "name": "stdout",
     "output_type": "stream",
     "text": [
      "Padding length is 36\n"
     ]
    }
   ],
   "source": [
    "max_sequence_length = (int(val/4)+1)*4\n",
    "print(f'Padding length is {max_sequence_length}')"
   ]
  },
  {
   "cell_type": "markdown",
   "id": "abc6de5f",
   "metadata": {
    "id": "abc6de5f",
    "variables": {
     "max_sequence_length": "36",
     "val": "34"
    }
   },
   "source": [
    "#### Max sequence length is {{val}}, assume {{max_sequence_length}} to keep sufficient padding"
   ]
  },
  {
   "cell_type": "code",
   "execution_count": 7,
   "id": "75f338ee",
   "metadata": {
    "id": "75f338ee"
   },
   "outputs": [],
   "source": [
    "data = [alp.split() for alp in df['text']]\n",
    "\n",
    "# corpus_text=[elem for elem in alp for alp in data]"
   ]
  },
  {
   "cell_type": "code",
   "execution_count": 8,
   "id": "bb925023",
   "metadata": {
    "id": "a0cdf7bb"
   },
   "outputs": [],
   "source": [
    "vector_size = 1000\n",
    "# model_name = \"wv_model_2000.w2v\"\n",
    "model_name = \"wv_model_1000_count5.w2v\""
   ]
  },
  {
   "cell_type": "code",
   "execution_count": 9,
   "id": "a0cdf7bb",
   "metadata": {
    "id": "a0cdf7bb"
   },
   "outputs": [],
   "source": [
    "# model = gensim.models.Word2Vec(data, min_count = 5,vector_size=vector_size, window = 10, sg = 0)\n",
    "# model.save(model_name)"
   ]
  },
  {
   "cell_type": "code",
   "execution_count": 10,
   "id": "e001733e",
   "metadata": {
    "id": "e001733e"
   },
   "outputs": [],
   "source": [
    "model = gensim.models.Word2Vec.load(model_name)"
   ]
  },
  {
   "cell_type": "code",
   "execution_count": 11,
   "id": "7ccb7275",
   "metadata": {
    "id": "7ccb7275",
    "outputId": "101553e3-0648-43e0-e929-0c3c06bb3622"
   },
   "outputs": [
    {
     "data": {
      "text/plain": [
       "[('horibl', 0.6040530800819397),\n",
       " ('teribl', 0.5678789615631104),\n",
       " ('shiti', 0.5293053388595581),\n",
       " ('god', 0.4836724102497101),\n",
       " ('crapi', 0.4783765375614166),\n",
       " ('badli', 0.4530486464500427),\n",
       " ('icki', 0.4226621985435486),\n",
       " ('guilti', 0.4175047278404236),\n",
       " ('yucki', 0.40732482075691223),\n",
       " ('foul', 0.3995888829231262)]"
      ]
     },
     "execution_count": 11,
     "metadata": {},
     "output_type": "execute_result"
    }
   ],
   "source": [
    "word = 'bad'\n",
    "\n",
    "model.wv.most_similar(word)"
   ]
  },
  {
   "cell_type": "code",
   "execution_count": 12,
   "id": "8edf4920",
   "metadata": {},
   "outputs": [],
   "source": [
    "word_list = model.wv.index_to_key"
   ]
  },
  {
   "cell_type": "code",
   "execution_count": 13,
   "id": "1bcff08c",
   "metadata": {
    "id": "1bcff08c",
    "outputId": "0033cf50-7cd0-40d2-9032-fa87c5e67651"
   },
   "outputs": [
    {
     "data": {
      "text/plain": [
       "39217"
      ]
     },
     "execution_count": 13,
     "metadata": {},
     "output_type": "execute_result"
    }
   ],
   "source": [
    "len(word_list)"
   ]
  },
  {
   "cell_type": "code",
   "execution_count": 14,
   "id": "09ebef50",
   "metadata": {
    "id": "09ebef50",
    "outputId": "56015e93-5954-41e3-a84d-6152b7194228"
   },
   "outputs": [
    {
     "data": {
      "text/plain": [
       "numpy.ndarray"
      ]
     },
     "execution_count": 14,
     "metadata": {},
     "output_type": "execute_result"
    }
   ],
   "source": [
    "type(model.wv['list'])"
   ]
  },
  {
   "cell_type": "code",
   "execution_count": 15,
   "id": "6069275f",
   "metadata": {},
   "outputs": [
    {
     "data": {
      "text/plain": [
       "(1000,)"
      ]
     },
     "execution_count": 15,
     "metadata": {},
     "output_type": "execute_result"
    }
   ],
   "source": [
    "model.wv['list'].shape"
   ]
  },
  {
   "cell_type": "markdown",
   "id": "62fae837",
   "metadata": {
    "id": "62fae837"
   },
   "source": [
    "## Splitting, vectorising, and flattening the data"
   ]
  },
  {
   "cell_type": "code",
   "execution_count": 16,
   "id": "e9ad23bf",
   "metadata": {
    "id": "e9ad23bf",
    "outputId": "b88d1779-35cc-4159-a379-9cc1b66f0c1b"
   },
   "outputs": [
    {
     "data": {
      "text/plain": [
       "1.0    77358\n",
       "0.0    77239\n",
       "Name: target, dtype: int64"
      ]
     },
     "execution_count": 16,
     "metadata": {},
     "output_type": "execute_result"
    }
   ],
   "source": [
    "minidf = df.sample(frac=0.1)\n",
    "minidf['target'].value_counts()"
   ]
  },
  {
   "cell_type": "markdown",
   "id": "dc2d65bf",
   "metadata": {
    "id": "dc2d65bf"
   },
   "source": [
    "Balanced!"
   ]
  },
  {
   "cell_type": "code",
   "execution_count": 17,
   "id": "dcf9a51b",
   "metadata": {
    "id": "dcf9a51b"
   },
   "outputs": [],
   "source": [
    "X_train, X_test, y_train, y_test = train_test_split(minidf['text'].apply(lambda x: x.split()), \n",
    "                                    minidf['target'].values, test_size=0.2, random_state=42)"
   ]
  },
  {
   "cell_type": "code",
   "execution_count": 18,
   "id": "7f845588",
   "metadata": {},
   "outputs": [],
   "source": [
    "# this function is passed with a sequence- list of words and returns the vector\n",
    "# If normal = True, vector will be averaged over all words, otherwise summed\n",
    "def get_embedding(sequence, normal = False):\n",
    "    vec = np.zeros((vector_size), dtype= float)\n",
    "    count= 0\n",
    "    for word in sequence:\n",
    "        if word in word_list:\n",
    "            vec += model.wv[word]\n",
    "            count +=1\n",
    "#             print(word)\n",
    "    if(normal): return vec/(max(count,1))\n",
    "    else: return vec"
   ]
  },
  {
   "cell_type": "code",
   "execution_count": 19,
   "id": "b5a68b9a",
   "metadata": {},
   "outputs": [],
   "source": [
    "# get_embedding(X_train.iloc[0])"
   ]
  },
  {
   "cell_type": "code",
   "execution_count": 20,
   "id": "0a188cce",
   "metadata": {
    "id": "0a188cce"
   },
   "outputs": [],
   "source": [
    "X_train_embed = np.array([get_embedding(sequ) for sequ in X_train])\n",
    "X_test_embed = np.array([get_embedding(sequ) for sequ in X_test])"
   ]
  },
  {
   "cell_type": "code",
   "execution_count": 21,
   "id": "e613d0e7",
   "metadata": {},
   "outputs": [
    {
     "data": {
      "text/plain": [
       "(123677, 1000)"
      ]
     },
     "execution_count": 21,
     "metadata": {},
     "output_type": "execute_result"
    }
   ],
   "source": [
    "X_train_embed.shape"
   ]
  },
  {
   "cell_type": "code",
   "execution_count": 22,
   "id": "4cb24714",
   "metadata": {
    "id": "4cb24714",
    "outputId": "f632ed0d-69d7-407d-fba0-ab7e0856dce5"
   },
   "outputs": [
    {
     "data": {
      "text/plain": [
       "(30920, 1000)"
      ]
     },
     "execution_count": 22,
     "metadata": {},
     "output_type": "execute_result"
    }
   ],
   "source": [
    "X_test_embed.shape"
   ]
  },
  {
   "cell_type": "code",
   "execution_count": null,
   "id": "89c7ffd9",
   "metadata": {},
   "outputs": [],
   "source": []
  },
  {
   "cell_type": "markdown",
   "id": "32a0d4b6",
   "metadata": {},
   "source": [
    "## Using w2v embeddings (summed) on models to check performance"
   ]
  },
  {
   "cell_type": "code",
   "execution_count": 23,
   "id": "d2c3d8ea",
   "metadata": {},
   "outputs": [
    {
     "name": "stdout",
     "output_type": "stream",
     "text": [
      "              precision    recall  f1-score   support\n",
      "\n",
      "         0.0       0.78      0.75      0.76     15420\n",
      "         1.0       0.76      0.80      0.78     15500\n",
      "\n",
      "    accuracy                           0.77     30920\n",
      "   macro avg       0.77      0.77      0.77     30920\n",
      "weighted avg       0.77      0.77      0.77     30920\n",
      "\n",
      "[[11501  3919]\n",
      " [ 3163 12337]]\n"
     ]
    },
    {
     "name": "stderr",
     "output_type": "stream",
     "text": [
      "/opt/anaconda3/lib/python3.9/site-packages/sklearn/svm/_base.py:985: ConvergenceWarning: Liblinear failed to converge, increase the number of iterations.\n",
      "  warnings.warn(\"Liblinear failed to converge, increase \"\n"
     ]
    }
   ],
   "source": [
    "from sklearn.svm import LinearSVC\n",
    "\n",
    "svc = LinearSVC(C = 0.02 )\n",
    "svc.fit(X_train_embed, y_train)\n",
    "\n",
    "y_pred = svc.predict(X_test_embed)\n",
    "print(classification_report(y_test, y_pred))\n",
    "print(confusion_matrix(y_test, y_pred))"
   ]
  },
  {
   "cell_type": "code",
   "execution_count": null,
   "id": "a81a221e",
   "metadata": {},
   "outputs": [],
   "source": []
  },
  {
   "cell_type": "code",
   "execution_count": null,
   "id": "5ebbddc8",
   "metadata": {},
   "outputs": [],
   "source": []
  },
  {
   "cell_type": "code",
   "execution_count": 24,
   "id": "70c69211",
   "metadata": {},
   "outputs": [
    {
     "name": "stdout",
     "output_type": "stream",
     "text": [
      "              precision    recall  f1-score   support\n",
      "\n",
      "         0.0       0.78      0.75      0.77     15420\n",
      "         1.0       0.76      0.79      0.78     15500\n",
      "\n",
      "    accuracy                           0.77     30920\n",
      "   macro avg       0.77      0.77      0.77     30920\n",
      "weighted avg       0.77      0.77      0.77     30920\n",
      "\n",
      "[[11590  3830]\n",
      " [ 3255 12245]]\n"
     ]
    },
    {
     "name": "stderr",
     "output_type": "stream",
     "text": [
      "/opt/anaconda3/lib/python3.9/site-packages/sklearn/linear_model/_logistic.py:763: ConvergenceWarning: lbfgs failed to converge (status=1):\n",
      "STOP: TOTAL NO. of ITERATIONS REACHED LIMIT.\n",
      "\n",
      "Increase the number of iterations (max_iter) or scale the data as shown in:\n",
      "    https://scikit-learn.org/stable/modules/preprocessing.html\n",
      "Please also refer to the documentation for alternative solver options:\n",
      "    https://scikit-learn.org/stable/modules/linear_model.html#logistic-regression\n",
      "  n_iter_i = _check_optimize_result(\n"
     ]
    }
   ],
   "source": [
    "from sklearn.linear_model import LogisticRegression\n",
    "lr = LogisticRegression(C=1, max_iter= 1000)\n",
    "lr.fit(X_train_embed, y_train)\n",
    "\n",
    "y_pred2 = lr.predict(X_test_embed)\n",
    "print(classification_report(y_test, y_pred2))\n",
    "print(confusion_matrix(y_test, y_pred2))"
   ]
  },
  {
   "cell_type": "code",
   "execution_count": null,
   "id": "3126002b",
   "metadata": {},
   "outputs": [],
   "source": []
  },
  {
   "cell_type": "code",
   "execution_count": null,
   "id": "792a8fa2",
   "metadata": {},
   "outputs": [],
   "source": []
  },
  {
   "cell_type": "code",
   "execution_count": 25,
   "id": "2ddf1a34",
   "metadata": {},
   "outputs": [
    {
     "name": "stdout",
     "output_type": "stream",
     "text": [
      "              precision    recall  f1-score   support\n",
      "\n",
      "         0.0       0.70      0.74      0.72     15420\n",
      "         1.0       0.72      0.68      0.70     15500\n",
      "\n",
      "    accuracy                           0.71     30920\n",
      "   macro avg       0.71      0.71      0.71     30920\n",
      "weighted avg       0.71      0.71      0.71     30920\n",
      "\n",
      "[[11401  4019]\n",
      " [ 4973 10527]]\n"
     ]
    }
   ],
   "source": [
    "from sklearn.naive_bayes import BernoulliNB\n",
    "bnb = BernoulliNB()\n",
    "bnb.fit(X_train_embed,y_train)\n",
    "\n",
    "y_pred3 = bnb.predict(X_test_embed)\n",
    "print(classification_report(y_test, y_pred3))\n",
    "print(confusion_matrix(y_test, y_pred3))"
   ]
  },
  {
   "cell_type": "code",
   "execution_count": null,
   "id": "6f473eea",
   "metadata": {},
   "outputs": [],
   "source": []
  },
  {
   "cell_type": "markdown",
   "id": "14ee1ff0",
   "metadata": {},
   "source": [
    "## Using w2v embeddings (averaged)"
   ]
  },
  {
   "cell_type": "code",
   "execution_count": 26,
   "id": "2cac7f83",
   "metadata": {},
   "outputs": [],
   "source": [
    "X_train_embed = None\n",
    "X_test_embed = None\n",
    "\n",
    "X_train_embed = np.array([get_embedding(sequ, normal = True) for sequ in X_train])\n",
    "X_test_embed = np.array([get_embedding(sequ, normal = True) for sequ in X_test])"
   ]
  },
  {
   "cell_type": "code",
   "execution_count": 27,
   "id": "42c3d015",
   "metadata": {},
   "outputs": [
    {
     "data": {
      "text/plain": [
       "(123677, 1000)"
      ]
     },
     "execution_count": 27,
     "metadata": {},
     "output_type": "execute_result"
    }
   ],
   "source": [
    "X_train_embed.shape"
   ]
  },
  {
   "cell_type": "code",
   "execution_count": 28,
   "id": "d6e0d8fc",
   "metadata": {},
   "outputs": [
    {
     "name": "stdout",
     "output_type": "stream",
     "text": [
      "              precision    recall  f1-score   support\n",
      "\n",
      "         0.0       0.77      0.76      0.76     15420\n",
      "         1.0       0.76      0.78      0.77     15500\n",
      "\n",
      "    accuracy                           0.77     30920\n",
      "   macro avg       0.77      0.77      0.77     30920\n",
      "weighted avg       0.77      0.77      0.77     30920\n",
      "\n",
      "[[11684  3736]\n",
      " [ 3463 12037]]\n"
     ]
    }
   ],
   "source": [
    "from sklearn.svm import LinearSVC\n",
    "\n",
    "svc = None\n",
    "svc = LinearSVC(C = 0.02 )\n",
    "svc.fit(X_train_embed, y_train)\n",
    "\n",
    "\n",
    "y_pred = svc.predict(X_test_embed)\n",
    "print(classification_report(y_test, y_pred))\n",
    "print(confusion_matrix(y_test, y_pred))"
   ]
  },
  {
   "cell_type": "code",
   "execution_count": null,
   "id": "a81a221e",
   "metadata": {},
   "outputs": [],
   "source": []
  },
  {
   "cell_type": "code",
   "execution_count": null,
   "id": "5ebbddc8",
   "metadata": {},
   "outputs": [],
   "source": []
  },
  {
   "cell_type": "code",
   "execution_count": 29,
   "id": "70c69211",
   "metadata": {},
   "outputs": [
    {
     "name": "stdout",
     "output_type": "stream",
     "text": [
      "              precision    recall  f1-score   support\n",
      "\n",
      "         0.0       0.77      0.76      0.77     15420\n",
      "         1.0       0.77      0.78      0.77     15500\n",
      "\n",
      "    accuracy                           0.77     30920\n",
      "   macro avg       0.77      0.77      0.77     30920\n",
      "weighted avg       0.77      0.77      0.77     30920\n",
      "\n",
      "[[11754  3666]\n",
      " [ 3479 12021]]\n"
     ]
    }
   ],
   "source": [
    "from sklearn.linear_model import LogisticRegression\n",
    "\n",
    "lr = None\n",
    "lr = LogisticRegression(C=1, max_iter= 1000)\n",
    "lr.fit(X_train_embed, y_train)\n",
    "\n",
    "y_pred2 = lr.predict(X_test_embed)\n",
    "print(classification_report(y_test, y_pred2))\n",
    "print(confusion_matrix(y_test, y_pred2))"
   ]
  },
  {
   "cell_type": "code",
   "execution_count": null,
   "id": "3126002b",
   "metadata": {},
   "outputs": [],
   "source": []
  },
  {
   "cell_type": "code",
   "execution_count": null,
   "id": "792a8fa2",
   "metadata": {},
   "outputs": [],
   "source": []
  },
  {
   "cell_type": "code",
   "execution_count": 30,
   "id": "2ddf1a34",
   "metadata": {},
   "outputs": [
    {
     "name": "stdout",
     "output_type": "stream",
     "text": [
      "              precision    recall  f1-score   support\n",
      "\n",
      "         0.0       0.70      0.74      0.72     15420\n",
      "         1.0       0.72      0.68      0.70     15500\n",
      "\n",
      "    accuracy                           0.71     30920\n",
      "   macro avg       0.71      0.71      0.71     30920\n",
      "weighted avg       0.71      0.71      0.71     30920\n",
      "\n",
      "[[11401  4019]\n",
      " [ 4973 10527]]\n"
     ]
    }
   ],
   "source": [
    "from sklearn.naive_bayes import BernoulliNB\n",
    "\n",
    "bnb = None\n",
    "bnb = BernoulliNB()\n",
    "bnb.fit(X_train_embed,y_train)\n",
    "\n",
    "\n",
    "y_pred3 = bnb.predict(X_test_embed)\n",
    "print(classification_report(y_test, y_pred3))\n",
    "print(confusion_matrix(y_test, y_pred3))"
   ]
  },
  {
   "cell_type": "code",
   "execution_count": null,
   "id": "e5053c7c",
   "metadata": {},
   "outputs": [],
   "source": []
  },
  {
   "cell_type": "markdown",
   "id": "3c917c94",
   "metadata": {},
   "source": [
    "## Using \"better\" methods for Word2Vec"
   ]
  },
  {
   "cell_type": "code",
   "execution_count": 31,
   "id": "87789480",
   "metadata": {
    "scrolled": true
   },
   "outputs": [
    {
     "name": "stdout",
     "output_type": "stream",
     "text": [
      "Iteration 1, loss = 0.50697665\n",
      "Validation score: 0.758490\n",
      "Iteration 2, loss = 0.49855903\n",
      "Validation score: 0.760349\n",
      "Iteration 3, loss = 0.49646868\n",
      "Validation score: 0.765201\n",
      "Iteration 4, loss = 0.49505028\n",
      "Validation score: 0.763745\n",
      "Iteration 5, loss = 0.49466252\n",
      "Validation score: 0.763907\n",
      "Iteration 6, loss = 0.49476374\n",
      "Validation score: 0.763988\n",
      "Iteration 7, loss = 0.49400008\n",
      "Validation score: 0.759945\n",
      "Iteration 8, loss = 0.49382800\n",
      "Validation score: 0.764311\n",
      "Iteration 9, loss = 0.49392560\n",
      "Validation score: 0.763017\n",
      "Iteration 10, loss = 0.49316220\n",
      "Validation score: 0.759945\n",
      "Iteration 11, loss = 0.49265520\n",
      "Validation score: 0.763179\n",
      "Iteration 12, loss = 0.49273505\n",
      "Validation score: 0.761400\n",
      "Iteration 13, loss = 0.49234464\n",
      "Validation score: 0.763745\n",
      "Iteration 14, loss = 0.49219730\n",
      "Validation score: 0.761643\n",
      "Validation score did not improve more than tol=0.000100 for 10 consecutive epochs. Stopping.\n"
     ]
    },
    {
     "data": {
      "text/plain": [
       "MLPClassifier(activation='identity', early_stopping=True,\n",
       "              hidden_layer_sizes=(1000, 100, 100, 10), max_iter=100,\n",
       "              verbose=True)"
      ]
     },
     "execution_count": 31,
     "metadata": {},
     "output_type": "execute_result"
    }
   ],
   "source": [
    "from sklearn.neural_network import MLPClassifier\n",
    "\n",
    "mlp = MLPClassifier(hidden_layer_sizes=(1000,100,100,10),activation='identity',solver='adam',\n",
    "    alpha=0.0001, batch_size='auto',learning_rate='constant',learning_rate_init=0.001,power_t=0.5,\n",
    "    max_iter=100,shuffle=True,random_state=None,tol=0.0001,verbose=True,warm_start=False,momentum=0.9,\n",
    "    nesterovs_momentum=True, early_stopping=True,validation_fraction=0.1,beta_1=0.9,beta_2=0.999,\n",
    "    epsilon=1e-08,n_iter_no_change=10,max_fun=15000)\n",
    "mlp.fit(X_train_embed, y_train)"
   ]
  },
  {
   "cell_type": "code",
   "execution_count": 32,
   "id": "01358c94",
   "metadata": {},
   "outputs": [
    {
     "name": "stdout",
     "output_type": "stream",
     "text": [
      "              precision    recall  f1-score   support\n",
      "\n",
      "         0.0       0.77      0.75      0.76     15420\n",
      "         1.0       0.76      0.78      0.77     15500\n",
      "\n",
      "    accuracy                           0.77     30920\n",
      "   macro avg       0.77      0.77      0.76     30920\n",
      "weighted avg       0.77      0.77      0.76     30920\n",
      "\n",
      "[[11588  3832]\n",
      " [ 3433 12067]]\n"
     ]
    }
   ],
   "source": [
    "y_pred = mlp.predict(X_test_embed)\n",
    "print(classification_report(y_test,y_pred))\n",
    "print(confusion_matrix(y_test,y_pred))"
   ]
  },
  {
   "cell_type": "code",
   "execution_count": null,
   "id": "7e94fb2d",
   "metadata": {},
   "outputs": [],
   "source": []
  },
  {
   "cell_type": "code",
   "execution_count": null,
   "id": "4c5ae112",
   "metadata": {},
   "outputs": [],
   "source": []
  }
 ],
 "metadata": {
  "colab": {
   "provenance": []
  },
  "kernelspec": {
   "display_name": "Python 3 (ipykernel)",
   "language": "python",
   "name": "python3"
  },
  "language_info": {
   "codemirror_mode": {
    "name": "ipython",
    "version": 3
   },
   "file_extension": ".py",
   "mimetype": "text/x-python",
   "name": "python",
   "nbconvert_exporter": "python",
   "pygments_lexer": "ipython3",
   "version": "3.9.7"
  }
 },
 "nbformat": 4,
 "nbformat_minor": 5
}
