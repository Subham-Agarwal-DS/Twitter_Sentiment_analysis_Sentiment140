{
 "cells": [
  {
   "cell_type": "code",
   "execution_count": 1,
   "id": "17a801d8",
   "metadata": {
    "id": "17a801d8"
   },
   "outputs": [],
   "source": [
    "# utilities\n",
    "import numpy as np\n",
    "import pandas as pd\n",
    "\n",
    "# plotting\n",
    "import seaborn as sns\n",
    "import matplotlib.pyplot as plt\n",
    "%matplotlib inline\n",
    "\n",
    "from sklearn.model_selection import train_test_split, GridSearchCV, StratifiedKFold\n",
    "from sklearn.metrics import confusion_matrix, classification_report, accuracy_score\n",
    "from sklearn.neural_network import MLPClassifier\n",
    "\n",
    "# import xgboost\n",
    "\n",
    "import gensim"
   ]
  },
  {
   "cell_type": "code",
   "execution_count": 2,
   "id": "2c9ed40e",
   "metadata": {},
   "outputs": [],
   "source": [
    "# xgboost.__version__"
   ]
  },
  {
   "cell_type": "code",
   "execution_count": 3,
   "id": "dd691137",
   "metadata": {
    "id": "dd691137",
    "outputId": "a2c97dee-60b4-41dd-86cb-2915cd6c3d6f"
   },
   "outputs": [
    {
     "data": {
      "text/html": [
       "<div>\n",
       "<style scoped>\n",
       "    .dataframe tbody tr th:only-of-type {\n",
       "        vertical-align: middle;\n",
       "    }\n",
       "\n",
       "    .dataframe tbody tr th {\n",
       "        vertical-align: top;\n",
       "    }\n",
       "\n",
       "    .dataframe thead th {\n",
       "        text-align: right;\n",
       "    }\n",
       "</style>\n",
       "<table border=\"1\" class=\"dataframe\">\n",
       "  <thead>\n",
       "    <tr style=\"text-align: right;\">\n",
       "      <th></th>\n",
       "      <th>text</th>\n",
       "      <th>target</th>\n",
       "    </tr>\n",
       "  </thead>\n",
       "  <tbody>\n",
       "    <tr>\n",
       "      <th>0</th>\n",
       "      <td>love not wait se admin best server ever hapi</td>\n",
       "      <td>1.0</td>\n",
       "    </tr>\n",
       "    <tr>\n",
       "      <th>1</th>\n",
       "      <td>folowfriday</td>\n",
       "      <td>1.0</td>\n",
       "    </tr>\n",
       "    <tr>\n",
       "      <th>2</th>\n",
       "      <td>recruit comun server sharepoint dev gig austin...</td>\n",
       "      <td>1.0</td>\n",
       "    </tr>\n",
       "    <tr>\n",
       "      <th>3</th>\n",
       "      <td>not pay god seat watch miley gue bc switch god...</td>\n",
       "      <td>0.0</td>\n",
       "    </tr>\n",
       "    <tr>\n",
       "      <th>4</th>\n",
       "      <td>ah excit pushi home okay aw hapi right</td>\n",
       "      <td>1.0</td>\n",
       "    </tr>\n",
       "    <tr>\n",
       "      <th>...</th>\n",
       "      <td>...</td>\n",
       "      <td>...</td>\n",
       "    </tr>\n",
       "    <tr>\n",
       "      <th>1545966</th>\n",
       "      <td>go go big hous borow si guitar play mayb write</td>\n",
       "      <td>1.0</td>\n",
       "    </tr>\n",
       "    <tr>\n",
       "      <th>1545967</th>\n",
       "      <td>dish sen prepar websit would afraid recomend p...</td>\n",
       "      <td>1.0</td>\n",
       "    </tr>\n",
       "    <tr>\n",
       "      <th>1545968</th>\n",
       "      <td>birthday</td>\n",
       "      <td>1.0</td>\n",
       "    </tr>\n",
       "    <tr>\n",
       "      <th>1545969</th>\n",
       "      <td>huri not think jon kate</td>\n",
       "      <td>1.0</td>\n",
       "    </tr>\n",
       "    <tr>\n",
       "      <th>1545970</th>\n",
       "      <td>ltlti not know cud dat phone til wowmi life co...</td>\n",
       "      <td>1.0</td>\n",
       "    </tr>\n",
       "  </tbody>\n",
       "</table>\n",
       "<p>1545971 rows × 2 columns</p>\n",
       "</div>"
      ],
      "text/plain": [
       "                                                      text  target\n",
       "0             love not wait se admin best server ever hapi     1.0\n",
       "1                                              folowfriday     1.0\n",
       "2        recruit comun server sharepoint dev gig austin...     1.0\n",
       "3        not pay god seat watch miley gue bc switch god...     0.0\n",
       "4                   ah excit pushi home okay aw hapi right     1.0\n",
       "...                                                    ...     ...\n",
       "1545966     go go big hous borow si guitar play mayb write     1.0\n",
       "1545967  dish sen prepar websit would afraid recomend p...     1.0\n",
       "1545968                                           birthday     1.0\n",
       "1545969                            huri not think jon kate     1.0\n",
       "1545970  ltlti not know cud dat phone til wowmi life co...     1.0\n",
       "\n",
       "[1545971 rows x 2 columns]"
      ]
     },
     "execution_count": 3,
     "metadata": {},
     "output_type": "execute_result"
    }
   ],
   "source": [
    "df = pd.read_csv('twitter.cleaned.csv')\n",
    "df\n"
   ]
  },
  {
   "cell_type": "code",
   "execution_count": 4,
   "id": "01b6afc3",
   "metadata": {
    "id": "01b6afc3",
    "outputId": "aad6b175-aabe-481d-bd30-89444d295f72"
   },
   "outputs": [
    {
     "name": "stdout",
     "output_type": "stream",
     "text": [
      "<class 'pandas.core.frame.DataFrame'>\n",
      "RangeIndex: 1545971 entries, 0 to 1545970\n",
      "Data columns (total 2 columns):\n",
      " #   Column  Non-Null Count    Dtype  \n",
      "---  ------  --------------    -----  \n",
      " 0   text    1545971 non-null  object \n",
      " 1   target  1545971 non-null  float64\n",
      "dtypes: float64(1), object(1)\n",
      "memory usage: 23.6+ MB\n"
     ]
    }
   ],
   "source": [
    "df.info()"
   ]
  },
  {
   "cell_type": "markdown",
   "id": "e8352074",
   "metadata": {
    "id": "e8352074"
   },
   "source": [
    "### Analyzing sequences to use Word2Vec"
   ]
  },
  {
   "cell_type": "code",
   "execution_count": 5,
   "id": "6fb6dbfb",
   "metadata": {
    "id": "6fb6dbfb",
    "outputId": "5523dc08-25ee-4493-e801-8236e0324fc9"
   },
   "outputs": [
    {
     "data": {
      "text/plain": [
       "34"
      ]
     },
     "execution_count": 5,
     "metadata": {},
     "output_type": "execute_result"
    }
   ],
   "source": [
    "val = max(df['text'].apply(lambda x: len(x.split())))\n",
    "val"
   ]
  },
  {
   "cell_type": "code",
   "execution_count": 6,
   "id": "f41380f3",
   "metadata": {
    "id": "f41380f3",
    "outputId": "6be8e148-4aad-4559-d1aa-ca18820c0914"
   },
   "outputs": [
    {
     "name": "stdout",
     "output_type": "stream",
     "text": [
      "Padding length is 36\n"
     ]
    }
   ],
   "source": [
    "max_sequence_length = (int(val/4)+1)*4\n",
    "print(f'Padding length is {max_sequence_length}')"
   ]
  },
  {
   "cell_type": "markdown",
   "id": "abc6de5f",
   "metadata": {
    "id": "abc6de5f",
    "variables": {
     "max_sequence_length": "36",
     "val": "34"
    }
   },
   "source": [
    "#### Max sequence length is {{val}}, assume {{max_sequence_length}} to keep sufficient padding"
   ]
  },
  {
   "cell_type": "code",
   "execution_count": 7,
   "id": "75f338ee",
   "metadata": {
    "id": "75f338ee"
   },
   "outputs": [],
   "source": [
    "data = [alp.split() for alp in df['text']]\n",
    "\n",
    "# corpus_text=[elem for elem in alp for alp in data]"
   ]
  },
  {
   "cell_type": "code",
   "execution_count": 8,
   "id": "a0cdf7bb",
   "metadata": {
    "id": "a0cdf7bb"
   },
   "outputs": [],
   "source": [
    "vector_size = 100\n",
    "model_name = \"wv_model_full.w2v\"\n",
    "\n",
    "# model = gensim.models.Word2Vec(data, min_count = 1,vector_size=vector_size, window = 10, sg = 1)\n",
    "# model.save(model_name)"
   ]
  },
  {
   "cell_type": "code",
   "execution_count": 9,
   "id": "e001733e",
   "metadata": {
    "id": "e001733e"
   },
   "outputs": [],
   "source": [
    "model = gensim.models.Word2Vec.load(model_name)"
   ]
  },
  {
   "cell_type": "code",
   "execution_count": 10,
   "id": "352490cd",
   "metadata": {
    "id": "352490cd"
   },
   "outputs": [],
   "source": [
    "word = 'bad'"
   ]
  },
  {
   "cell_type": "code",
   "execution_count": 11,
   "id": "7ccb7275",
   "metadata": {
    "id": "7ccb7275",
    "outputId": "101553e3-0648-43e0-e929-0c3c06bb3622"
   },
   "outputs": [
    {
     "data": {
      "text/plain": [
       "[('horibl', 0.7457845211029053),\n",
       " ('teribl', 0.7002303600311279),\n",
       " ('god', 0.6490662693977356),\n",
       " ('shiti', 0.6369373202323914),\n",
       " ('crapi', 0.5898011922836304),\n",
       " ('motorcycleor', 0.5466794371604919),\n",
       " ('badli', 0.5404649376869202),\n",
       " ('guilti', 0.5315821766853333),\n",
       " ('upset', 0.5277889370918274),\n",
       " ('hangert', 0.5233110189437866)]"
      ]
     },
     "execution_count": 11,
     "metadata": {},
     "output_type": "execute_result"
    }
   ],
   "source": [
    "model.wv.most_similar(word)"
   ]
  },
  {
   "cell_type": "code",
   "execution_count": 12,
   "id": "1bcff08c",
   "metadata": {
    "id": "1bcff08c",
    "outputId": "0033cf50-7cd0-40d2-9032-fa87c5e67651"
   },
   "outputs": [
    {
     "data": {
      "text/plain": [
       "295926"
      ]
     },
     "execution_count": 12,
     "metadata": {},
     "output_type": "execute_result"
    }
   ],
   "source": [
    "len(model.wv.index_to_key)"
   ]
  },
  {
   "cell_type": "code",
   "execution_count": 12,
   "id": "09ebef50",
   "metadata": {
    "id": "09ebef50",
    "outputId": "56015e93-5954-41e3-a84d-6152b7194228"
   },
   "outputs": [
    {
     "data": {
      "text/plain": [
       "(100,)"
      ]
     },
     "execution_count": 12,
     "metadata": {},
     "output_type": "execute_result"
    }
   ],
   "source": [
    "model.wv['list'].shape"
   ]
  },
  {
   "cell_type": "code",
   "execution_count": null,
   "id": "8edf4920",
   "metadata": {},
   "outputs": [],
   "source": []
  },
  {
   "cell_type": "markdown",
   "id": "62fae837",
   "metadata": {
    "id": "62fae837"
   },
   "source": [
    "## Splitting, vectorising, and flattening the data"
   ]
  },
  {
   "cell_type": "code",
   "execution_count": 13,
   "id": "e9ad23bf",
   "metadata": {
    "id": "e9ad23bf",
    "outputId": "b88d1779-35cc-4159-a379-9cc1b66f0c1b"
   },
   "outputs": [
    {
     "data": {
      "text/plain": [
       "0.0    77317\n",
       "1.0    77280\n",
       "Name: target, dtype: int64"
      ]
     },
     "execution_count": 13,
     "metadata": {},
     "output_type": "execute_result"
    }
   ],
   "source": [
    "minidf = df.sample(frac=0.1)\n",
    "minidf['target'].value_counts()"
   ]
  },
  {
   "cell_type": "markdown",
   "id": "dc2d65bf",
   "metadata": {
    "id": "dc2d65bf"
   },
   "source": [
    "Balanced!"
   ]
  },
  {
   "cell_type": "code",
   "execution_count": 14,
   "id": "dcf9a51b",
   "metadata": {
    "id": "dcf9a51b"
   },
   "outputs": [],
   "source": [
    "X_train, X_test, y_train, y_test = train_test_split(minidf['text'].apply(lambda x: x.split()), \n",
    "                                    minidf['target'].values, test_size=0.2, random_state=42)"
   ]
  },
  {
   "cell_type": "code",
   "execution_count": 15,
   "id": "0a188cce",
   "metadata": {
    "id": "0a188cce"
   },
   "outputs": [],
   "source": [
    "X_train_embed = [[model.wv[word] for word in sequ] for sequ in X_train]\n",
    "X_test_embed = [[model.wv[word] for word in sequ] for sequ in X_test]"
   ]
  },
  {
   "cell_type": "code",
   "execution_count": 16,
   "id": "ca39c52b",
   "metadata": {
    "id": "ca39c52b"
   },
   "outputs": [],
   "source": [
    "def zero_padding(vector):\n",
    "    temp = [np.zeros((vector_size))]\n",
    "    comp = max_sequence_length-len(vector)\n",
    "    if(comp>0):\n",
    "        vector += temp*comp\n",
    "    else:\n",
    "        vector = vector[:max_sequence_length]\n",
    "    return np.array(vector).reshape(vector_size*max_sequence_length)\n",
    "\n",
    "# It gives padding or truncation if needed to sequences"
   ]
  },
  {
   "cell_type": "code",
   "execution_count": null,
   "id": "76809b4d",
   "metadata": {},
   "outputs": [],
   "source": []
  },
  {
   "cell_type": "code",
   "execution_count": 17,
   "id": "e08c51d5",
   "metadata": {
    "id": "e08c51d5"
   },
   "outputs": [],
   "source": [
    "X_train_embed = np.array([zero_padding(vector) for vector in X_train_embed])\n",
    "X_test_embed = np.array([zero_padding(vector) for vector in X_test_embed])\n"
   ]
  },
  {
   "cell_type": "code",
   "execution_count": 18,
   "id": "081642e3",
   "metadata": {
    "id": "081642e3",
    "outputId": "670fc9dd-378b-4b3a-ced9-8253277f9a93"
   },
   "outputs": [
    {
     "data": {
      "text/plain": [
       "(123677, 3600)"
      ]
     },
     "execution_count": 18,
     "metadata": {},
     "output_type": "execute_result"
    }
   ],
   "source": [
    "X_train_embed.shape"
   ]
  },
  {
   "cell_type": "code",
   "execution_count": 19,
   "id": "4cb24714",
   "metadata": {
    "id": "4cb24714",
    "outputId": "f632ed0d-69d7-407d-fba0-ab7e0856dce5"
   },
   "outputs": [
    {
     "data": {
      "text/plain": [
       "(30920, 3600)"
      ]
     },
     "execution_count": 19,
     "metadata": {},
     "output_type": "execute_result"
    }
   ],
   "source": [
    "X_test_embed.shape"
   ]
  },
  {
   "cell_type": "markdown",
   "id": "d47d86a7",
   "metadata": {},
   "source": [
    "## Using w2v embeddings on models to check performance"
   ]
  },
  {
   "cell_type": "code",
   "execution_count": 37,
   "id": "f1434802",
   "metadata": {},
   "outputs": [
    {
     "name": "stderr",
     "output_type": "stream",
     "text": [
      "/opt/anaconda3/lib/python3.9/site-packages/sklearn/svm/_base.py:985: ConvergenceWarning: Liblinear failed to converge, increase the number of iterations.\n",
      "  warnings.warn(\"Liblinear failed to converge, increase \"\n"
     ]
    },
    {
     "data": {
      "text/plain": [
       "LinearSVC(C=0.1)"
      ]
     },
     "execution_count": 37,
     "metadata": {},
     "output_type": "execute_result"
    }
   ],
   "source": [
    "from sklearn.svm import LinearSVC\n",
    "\n",
    "svc = LinearSVC(C = 0.1)\n",
    "svc.fit(X_train_embed, y_train)\n"
   ]
  },
  {
   "cell_type": "code",
   "execution_count": 38,
   "id": "d2c3d8ea",
   "metadata": {},
   "outputs": [
    {
     "name": "stdout",
     "output_type": "stream",
     "text": [
      "              precision    recall  f1-score   support\n",
      "\n",
      "         0.0       0.77      0.74      0.75     15583\n",
      "         1.0       0.74      0.78      0.76     15337\n",
      "\n",
      "    accuracy                           0.76     30920\n",
      "   macro avg       0.76      0.76      0.76     30920\n",
      "weighted avg       0.76      0.76      0.76     30920\n",
      "\n",
      "[[11474  4109]\n",
      " [ 3371 11966]]\n"
     ]
    }
   ],
   "source": [
    "y_pred = svc.predict(X_test_embed)\n",
    "print(classification_report(y_test, y_pred))\n",
    "print(confusion_matrix(y_test, y_pred))"
   ]
  },
  {
   "cell_type": "code",
   "execution_count": null,
   "id": "a81a221e",
   "metadata": {},
   "outputs": [],
   "source": []
  },
  {
   "cell_type": "code",
   "execution_count": null,
   "id": "5ebbddc8",
   "metadata": {},
   "outputs": [],
   "source": []
  },
  {
   "cell_type": "code",
   "execution_count": 41,
   "id": "dc78e840",
   "metadata": {},
   "outputs": [
    {
     "name": "stderr",
     "output_type": "stream",
     "text": [
      "/opt/anaconda3/lib/python3.9/site-packages/sklearn/linear_model/_logistic.py:763: ConvergenceWarning: lbfgs failed to converge (status=1):\n",
      "STOP: TOTAL NO. of ITERATIONS REACHED LIMIT.\n",
      "\n",
      "Increase the number of iterations (max_iter) or scale the data as shown in:\n",
      "    https://scikit-learn.org/stable/modules/preprocessing.html\n",
      "Please also refer to the documentation for alternative solver options:\n",
      "    https://scikit-learn.org/stable/modules/linear_model.html#logistic-regression\n",
      "  n_iter_i = _check_optimize_result(\n"
     ]
    },
    {
     "data": {
      "text/plain": [
       "LogisticRegression(C=1, max_iter=300)"
      ]
     },
     "execution_count": 41,
     "metadata": {},
     "output_type": "execute_result"
    }
   ],
   "source": [
    "from sklearn.linear_model import LogisticRegression\n",
    "lr = LogisticRegression(C=1, max_iter= 300)\n",
    "lr.fit(X_train_embed, y_train)"
   ]
  },
  {
   "cell_type": "code",
   "execution_count": 42,
   "id": "70c69211",
   "metadata": {},
   "outputs": [
    {
     "name": "stdout",
     "output_type": "stream",
     "text": [
      "              precision    recall  f1-score   support\n",
      "\n",
      "         0.0       0.77      0.75      0.76     15583\n",
      "         1.0       0.75      0.77      0.76     15337\n",
      "\n",
      "    accuracy                           0.76     30920\n",
      "   macro avg       0.76      0.76      0.76     30920\n",
      "weighted avg       0.76      0.76      0.76     30920\n",
      "\n",
      "[[11631  3952]\n",
      " [ 3468 11869]]\n"
     ]
    }
   ],
   "source": [
    "y_pred2 = lr.predict(X_test_embed)\n",
    "print(classification_report(y_test, y_pred2))\n",
    "print(confusion_matrix(y_test, y_pred2))"
   ]
  },
  {
   "cell_type": "code",
   "execution_count": null,
   "id": "3126002b",
   "metadata": {},
   "outputs": [],
   "source": []
  },
  {
   "cell_type": "code",
   "execution_count": null,
   "id": "792a8fa2",
   "metadata": {},
   "outputs": [],
   "source": []
  },
  {
   "cell_type": "code",
   "execution_count": 25,
   "id": "ab28270e",
   "metadata": {},
   "outputs": [
    {
     "data": {
      "text/plain": [
       "BernoulliNB()"
      ]
     },
     "execution_count": 25,
     "metadata": {},
     "output_type": "execute_result"
    }
   ],
   "source": [
    "from sklearn.naive_bayes import BernoulliNB\n",
    "bnb = BernoulliNB()\n",
    "bnb.fit(X_train_embed,y_train)\n"
   ]
  },
  {
   "cell_type": "code",
   "execution_count": 26,
   "id": "2ddf1a34",
   "metadata": {},
   "outputs": [
    {
     "name": "stdout",
     "output_type": "stream",
     "text": [
      "              precision    recall  f1-score   support\n",
      "\n",
      "         0.0       0.57      0.43      0.49     15583\n",
      "         1.0       0.54      0.67      0.60     15337\n",
      "\n",
      "    accuracy                           0.55     30920\n",
      "   macro avg       0.55      0.55      0.54     30920\n",
      "weighted avg       0.55      0.55      0.54     30920\n",
      "\n",
      "[[ 6652  8931]\n",
      " [ 5027 10310]]\n"
     ]
    }
   ],
   "source": [
    "y_pred3 = bnb.predict(X_test_embed)\n",
    "print(classification_report(y_test, y_pred3))\n",
    "print(confusion_matrix(y_test, y_pred3))"
   ]
  },
  {
   "cell_type": "markdown",
   "id": "3c917c94",
   "metadata": {},
   "source": [
    "## Using \"better\" methods for Word2Vec"
   ]
  },
  {
   "cell_type": "code",
   "execution_count": 22,
   "id": "87789480",
   "metadata": {
    "scrolled": false
   },
   "outputs": [
    {
     "name": "stdout",
     "output_type": "stream",
     "text": [
      "Iteration 1, loss = 0.58766601\n",
      "Validation score: 0.747170\n",
      "Iteration 2, loss = 0.53009372\n",
      "Validation score: 0.750647\n",
      "Iteration 3, loss = 0.53003242\n",
      "Validation score: 0.752668\n",
      "Iteration 4, loss = 0.52863508\n",
      "Validation score: 0.753072\n",
      "Iteration 5, loss = 0.52869412\n",
      "Validation score: 0.756307\n",
      "Iteration 6, loss = 0.52943644\n",
      "Validation score: 0.754285\n",
      "Iteration 7, loss = 0.52849058\n",
      "Validation score: 0.756064\n",
      "Iteration 8, loss = 0.52829204\n",
      "Validation score: 0.754124\n",
      "Iteration 9, loss = 0.52943896\n",
      "Validation score: 0.756630\n",
      "Iteration 10, loss = 0.53033565\n",
      "Validation score: 0.757843\n",
      "Iteration 11, loss = 0.52719528\n",
      "Validation score: 0.754043\n",
      "Iteration 12, loss = 0.52549439\n",
      "Validation score: 0.758005\n",
      "Iteration 13, loss = 0.52982174\n",
      "Validation score: 0.752506\n",
      "Iteration 14, loss = 0.53355626\n",
      "Validation score: 0.755175\n",
      "Iteration 15, loss = 0.52289118\n",
      "Validation score: 0.755741\n",
      "Iteration 16, loss = 0.52708446\n",
      "Validation score: 0.756468\n",
      "Iteration 17, loss = 0.52330158\n",
      "Validation score: 0.757277\n",
      "Iteration 18, loss = 0.52795785\n",
      "Validation score: 0.751536\n",
      "Iteration 19, loss = 0.52943333\n",
      "Validation score: 0.752668\n",
      "Iteration 20, loss = 0.53207502\n",
      "Validation score: 0.751617\n",
      "Iteration 21, loss = 0.53004363\n",
      "Validation score: 0.754124\n",
      "Iteration 22, loss = 0.52347460\n",
      "Validation score: 0.752830\n",
      "Iteration 23, loss = 0.52502994\n",
      "Validation score: 0.754851\n",
      "Validation score did not improve more than tol=0.000100 for 10 consecutive epochs. Stopping.\n"
     ]
    },
    {
     "data": {
      "text/plain": [
       "MLPClassifier(activation='identity', early_stopping=True,\n",
       "              hidden_layer_sizes=(3600, 100, 10, 1), learning_rate_init=0.01,\n",
       "              verbose=True)"
      ]
     },
     "execution_count": 22,
     "metadata": {},
     "output_type": "execute_result"
    }
   ],
   "source": [
    "mlp = MLPClassifier(hidden_layer_sizes=(3600,100,10,1),activation='identity',solver='adam',\n",
    "    learning_rate_init=0.01, verbose=True, early_stopping=True,validation_fraction=0.1)\n",
    "mlp.fit(X_train_embed, y_train)"
   ]
  },
  {
   "cell_type": "code",
   "execution_count": 23,
   "id": "01358c94",
   "metadata": {},
   "outputs": [
    {
     "name": "stdout",
     "output_type": "stream",
     "text": [
      "              precision    recall  f1-score   support\n",
      "\n",
      "         0.0       0.75      0.76      0.75     15369\n",
      "         1.0       0.76      0.75      0.76     15551\n",
      "\n",
      "    accuracy                           0.76     30920\n",
      "   macro avg       0.76      0.76      0.76     30920\n",
      "weighted avg       0.76      0.76      0.76     30920\n",
      "\n",
      "[[11625  3744]\n",
      " [ 3831 11720]]\n"
     ]
    }
   ],
   "source": [
    "y_pred = mlp.predict(X_test_embed)\n",
    "print(classification_report(y_test,y_pred))\n",
    "print(confusion_matrix(y_test,y_pred))"
   ]
  },
  {
   "cell_type": "code",
   "execution_count": null,
   "id": "7e94fb2d",
   "metadata": {},
   "outputs": [],
   "source": []
  }
 ],
 "metadata": {
  "colab": {
   "provenance": []
  },
  "kernelspec": {
   "display_name": "Python 3 (ipykernel)",
   "language": "python",
   "name": "python3"
  },
  "language_info": {
   "codemirror_mode": {
    "name": "ipython",
    "version": 3
   },
   "file_extension": ".py",
   "mimetype": "text/x-python",
   "name": "python",
   "nbconvert_exporter": "python",
   "pygments_lexer": "ipython3",
   "version": "3.9.7"
  }
 },
 "nbformat": 4,
 "nbformat_minor": 5
}
